{
 "cells": [
  {
   "cell_type": "code",
   "execution_count": 1,
   "metadata": {},
   "outputs": [],
   "source": [
    "import numpy as np\n",
    "import scipy.io as sio \n",
    "import os\n",
    "import cv2\n",
    "import matplotlib.pyplot as plt\n",
    "import pprint"
   ]
  },
  {
   "cell_type": "code",
   "execution_count": 2,
   "metadata": {},
   "outputs": [],
   "source": [
    "isExists=os.path.exists(\"./modified_train\")\n",
    "if not isExists:\n",
    "    os.makedirs(\"./modified_train\")\n",
    "    \n",
    "isExists=os.path.exists(\"./modified_test\")\n",
    "if not isExists:\n",
    "    os.makedirs(\"./modified_test\")"
   ]
  },
  {
   "cell_type": "code",
   "execution_count": 3,
   "metadata": {
    "scrolled": true
   },
   "outputs": [],
   "source": [
    "annos = sio.loadmat('./cars_train_annos.mat')\n",
    "_, total_size = annos[\"annotations\"].shape\n",
    "\n",
    "labels = np.zeros((total_size, 5))\n",
    "\n",
    "for i in range(total_size):\n",
    "    path = annos[\"annotations\"][:,i][0][5][0].split(\".\")\n",
    "    id = int(path[0]) - 1\n",
    "    for j in range(5):\n",
    "        labels[id, j] = int(annos[\"annotations\"][:,i][0][j][0])\n"
   ]
  },
  {
   "cell_type": "code",
   "execution_count": null,
   "metadata": {
    "scrolled": false
   },
   "outputs": [
    {
     "name": "stdout",
     "output_type": "stream",
     "text": [
      "努力裁剪中...ε≡ﾍ( ´∀`)ﾉ\n",
      "目前進度 集滿20個即可兌換大獎  ******************"
     ]
    }
   ],
   "source": [
    "image_names = os.listdir(\"./cars_train\")\n",
    "\n",
    "rate = int(total_size/20)\n",
    "print(\"努力裁剪中...ε≡ﾍ( ´∀`)ﾉ\")\n",
    "print(\"目前進度 集滿20個即可兌換大獎\", end='  ')\n",
    "for i in range(total_size):\n",
    "    if i % rate == 0:\n",
    "        print(\"*\", end='')\n",
    "    \n",
    "    im = cv2.imread(\"./cars_train/\" + image_names[i])[:,:,::-1]\n",
    "\n",
    "    name = image_names[i].split('.')\n",
    "    image_label = labels[int(name[0]) - 1]\n",
    "\n",
    "    x = im[int(image_label[1]):int(image_label[3]),int(image_label[0]):int(image_label[2])]\n",
    "\n",
    "    plt.imshow(x)\n",
    "    plt.xticks([])\n",
    "    plt.yticks([])\n",
    "    plt.axis('off')\n",
    "    plt.margins(0,0)\n",
    "    plt.savefig(\"./modified_train/\" + image_names[i], bbox_inches='tight', pad_inches=0, dpi=100)\n",
    "    plt. close()\n",
    "\n"
   ]
  },
  {
   "cell_type": "code",
   "execution_count": 6,
   "metadata": {},
   "outputs": [],
   "source": [
    "annos = sio.loadmat('./cars_test_annos_withlabels.mat')\n",
    "_, total_size = annos[\"annotations\"].shape\n",
    "\n",
    "labels = np.zeros((total_size, 5))\n",
    "\n",
    "for i in range(total_size):\n",
    "    path = annos[\"annotations\"][:,i][0][5][0].split(\".\")\n",
    "    id = int(path[0]) - 1\n",
    "    for j in range(5):\n",
    "        labels[id, j] = int(annos[\"annotations\"][:,i][0][j][0])"
   ]
  },
  {
   "cell_type": "code",
   "execution_count": 7,
   "metadata": {
    "scrolled": false
   },
   "outputs": [
    {
     "name": "stdout",
     "output_type": "stream",
     "text": [
      "努力裁剪中...ε≡ﾍ( ´∀`)ﾉ\n",
      "目前進度 集滿20個即可兌換大獎  *********************"
     ]
    }
   ],
   "source": [
    "image_names = os.listdir(\"./cars_test\")\n",
    "\n",
    "rate = int(total_size/20)\n",
    "print(\"努力裁剪中...ε≡ﾍ( ´∀`)ﾉ\")\n",
    "print(\"目前進度 集滿20個即可兌換大獎\", end='  ')\n",
    "for i in range(total_size):\n",
    "    if i % rate == 0:\n",
    "        print(\"*\", end='')\n",
    "    \n",
    "    im = cv2.imread(\"./cars_test/\" + image_names[i])[:,:,::-1]\n",
    "\n",
    "    name = image_names[i].split('.')\n",
    "    image_label = labels[int(name[0]) - 1]\n",
    "\n",
    "    x = im[int(image_label[1]):int(image_label[3]),int(image_label[0]):int(image_label[2])]\n",
    "\n",
    "    plt.imshow(x)\n",
    "    plt.xticks([])\n",
    "    plt.yticks([])\n",
    "    plt.axis('off')\n",
    "    plt.margins(0,0)\n",
    "    plt.savefig(\"./modified_test/\" + image_names[i], bbox_inches='tight', pad_inches=0, dpi=100)\n",
    "    plt. close()"
   ]
  },
  {
   "cell_type": "code",
   "execution_count": null,
   "metadata": {},
   "outputs": [],
   "source": []
  }
 ],
 "metadata": {
  "kernelspec": {
   "display_name": "Python 3",
   "language": "python",
   "name": "python3"
  },
  "language_info": {
   "codemirror_mode": {
    "name": "ipython",
    "version": 3
   },
   "file_extension": ".py",
   "mimetype": "text/x-python",
   "name": "python",
   "nbconvert_exporter": "python",
   "pygments_lexer": "ipython3",
   "version": "3.5.6"
  }
 },
 "nbformat": 4,
 "nbformat_minor": 2
}

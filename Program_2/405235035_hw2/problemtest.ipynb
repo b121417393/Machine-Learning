{
 "cells": [
  {
   "cell_type": "code",
   "execution_count": 3,
   "metadata": {},
   "outputs": [],
   "source": [
    "import torch\n",
    "import torch.nn as nn\n",
    "from dataset import TRAIN_Dataset\n",
    "from torch.autograd import Variable\n",
    "from torch.utils.data import DataLoader\n",
    "from torchvision import transforms\n",
    "from pathlib import Path\n",
    "import torchvision.models as models\n",
    "import numpy as np\n",
    "import copy\n",
    "from torch.utils.data import Dataset\n",
    "from pathlib import Path\n",
    "from PIL import Image\n",
    "import numpy as np\n",
    "import scipy.io as sio \n",
    "import os\n",
    "import cv2\n",
    "import matplotlib.pyplot as plt\n",
    "import pprint"
   ]
  },
  {
   "cell_type": "code",
   "execution_count": 4,
   "metadata": {},
   "outputs": [],
   "source": [
    "torch.manual_seed(123)\n",
    "torch.backends.cudnn.deterministic = True\n",
    "torch.backends.cudnn.benchmark = False\n",
    "\n",
    "CUDA_DEVICES = 0\n",
    "DATASET_ROOT = './cars_train'"
   ]
  },
  {
   "cell_type": "code",
   "execution_count": 5,
   "metadata": {
    "scrolled": true
   },
   "outputs": [],
   "source": [
    "data_transform = transforms.Compose([transforms.Resize((224,224)),\n",
    "        transforms.ToTensor(),transforms.Normalize(mean=[0.485, 0.456, 0.406], std=[0.229, 0.224, 0.225])])"
   ]
  },
  {
   "cell_type": "code",
   "execution_count": 7,
   "metadata": {},
   "outputs": [
    {
     "name": "stdout",
     "output_type": "stream",
     "text": [
      "裁切前的type:  <class 'PIL.Image.Image'>\n",
      "裁切前的size:  (600, 400)\n",
      "裁切後的type:  <class 'PIL.Image.Image'>\n",
      "裁切後的size:  (530, 259)\n",
      "裁切前並轉換後的type:  <class 'torch.Tensor'>\n",
      "裁切前並轉換後的shape:  torch.Size([3, 224, 224])\n",
      "裁切後並轉換後的type:  <class 'torch.Tensor'>\n",
      "裁切後並轉換後的shape:  torch.Size([3, 224, 224])\n"
     ]
    }
   ],
   "source": [
    "im = Image.open(\"./cars_train/00001.jpg\").convert('RGB')\n",
    "print(\"裁切前的type: \",type(im))\n",
    "print(\"裁切前的size: \",im.size)\n",
    "image = im.crop( (39, 116, 569, 375) )\n",
    "print(\"裁切後的type: \",type(image))\n",
    "print(\"裁切後的size: \",image.size)\n",
    "\n",
    "im = data_transform(im)\n",
    "print(\"裁切前並轉換後的type: \",type(im))\n",
    "print(\"裁切前並轉換後的shape: \",im.shape)\n",
    "\n",
    "image = data_transform(image)\n",
    "print(\"裁切後並轉換後的type: \",type(image))\n",
    "print(\"裁切後並轉換後的shape: \",image.shape)"
   ]
  },
  {
   "cell_type": "code",
   "execution_count": null,
   "metadata": {},
   "outputs": [],
   "source": []
  }
 ],
 "metadata": {
  "kernelspec": {
   "display_name": "Python 3",
   "language": "python",
   "name": "python3"
  },
  "language_info": {
   "codemirror_mode": {
    "name": "ipython",
    "version": 3
   },
   "file_extension": ".py",
   "mimetype": "text/x-python",
   "name": "python",
   "nbconvert_exporter": "python",
   "pygments_lexer": "ipython3",
   "version": "3.7.3"
  }
 },
 "nbformat": 4,
 "nbformat_minor": 2
}
